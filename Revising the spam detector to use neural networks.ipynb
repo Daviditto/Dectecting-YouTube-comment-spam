{
 "cells": [
  {
   "cell_type": "markdown",
   "id": "eb519aa2-8d12-4be6-bea7-c216f33abb23",
   "metadata": {},
   "source": [
    "# Revising the spam detector to use neural networks"
   ]
  },
  {
   "cell_type": "code",
   "execution_count": 3,
   "id": "b138d36d-b52e-4332-9fed-f741ac0fdd77",
   "metadata": {},
   "outputs": [],
   "source": [
    "import pandas as pd\n",
    "import seaborn as sns"
   ]
  },
  {
   "cell_type": "code",
   "execution_count": 4,
   "id": "2608188d-7a7a-46d9-9821-4357285c223e",
   "metadata": {},
   "outputs": [],
   "source": [
    "df = pd.concat([pd.read_csv('YouTube-Spam-Collection-v1/YouTube01-Psy.csv'), \n",
    "                    pd.read_csv('YouTube-Spam-Collection-v1/Youtube02-KatyPerry.csv'), \n",
    "                    pd.read_csv('YouTube-Spam-Collection-v1/Youtube03-LMFAO.csv'), \n",
    "                    pd.read_csv('YouTube-Spam-Collection-v1/Youtube04-Eminem.csv'), \n",
    "                    pd.read_csv('YouTube-Spam-Collection-v1/Youtube05-Shakira.csv')])"
   ]
  },
  {
   "cell_type": "code",
   "execution_count": 5,
   "id": "500d4042-9b20-44ae-8699-b2b8eeee1507",
   "metadata": {},
   "outputs": [
    {
     "name": "stdout",
     "output_type": "stream",
     "text": [
      "<class 'pandas.core.frame.DataFrame'>\n",
      "Int64Index: 1956 entries, 0 to 369\n",
      "Data columns (total 5 columns):\n",
      " #   Column      Non-Null Count  Dtype \n",
      "---  ------      --------------  ----- \n",
      " 0   COMMENT_ID  1956 non-null   object\n",
      " 1   AUTHOR      1956 non-null   object\n",
      " 2   DATE        1711 non-null   object\n",
      " 3   CONTENT     1956 non-null   object\n",
      " 4   CLASS       1956 non-null   int64 \n",
      "dtypes: int64(1), object(4)\n",
      "memory usage: 91.7+ KB\n"
     ]
    }
   ],
   "source": [
    "df.info()"
   ]
  },
  {
   "cell_type": "code",
   "execution_count": 19,
   "id": "cd2a6817-7f95-4fef-9bba-b023b0bbe97c",
   "metadata": {},
   "outputs": [
    {
     "data": {
      "image/png": "[encoded data removed]",
      "text/plain": [
       "<Figure size 432x288 with 1 Axes>"
      ]
     },
     "metadata": {
      "needs_background": "light"
     },
     "output_type": "display_data"
    }
   ],
   "source": [
    "sns.heatmap(df.isnull(), cbar=False, cmap='viridis', yticklabels=[]);\n",
    "# as we can see, some data was missing from the Date column, but we are not interested in this column, so no worries"
   ]
  },
  {
   "cell_type": "code",
   "execution_count": 6,
   "id": "dcd0b5b1-5079-47c0-baae-1e427ad71bf0",
   "metadata": {},
   "outputs": [
    {
     "data": {
      "text/plain": [
       "1    1005\n",
       "0     951\n",
       "Name: CLASS, dtype: int64"
      ]
     },
     "execution_count": 6,
     "metadata": {},
     "output_type": "execute_result"
    }
   ],
   "source": [
    "df['CLASS'].value_counts()"
   ]
  },
  {
   "cell_type": "code",
   "execution_count": 18,
   "id": "e2075419-d068-4c1f-adc4-336ce9b8d155",
   "metadata": {},
   "outputs": [
    {
     "data": {
      "image/png": "[encoded data removed]",
      "text/plain": [
       "<Figure size 432x288 with 1 Axes>"
      ]
     },
     "metadata": {
      "needs_background": "light"
     },
     "output_type": "display_data"
    }
   ],
   "source": [
    "df['CLASS'].value_counts().plot(kind='bar'); \n",
    "# the target column is faily balanced "
   ]
  },
  {
   "cell_type": "markdown",
   "id": "b50cdb49-3d27-48c5-9731-27b73019603d",
   "metadata": {},
   "source": [
    "### the StratifiedKFold tecnique"
   ]
  },
  {
   "cell_type": "code",
   "execution_count": 14,
   "id": "50fc953e-3521-425b-b116-61d6f94d872b",
   "metadata": {},
   "outputs": [],
   "source": [
    "from sklearn.model_selection import StratifiedKFold"
   ]
  },
  {
   "cell_type": "code",
   "execution_count": 15,
   "id": "39a0d343-ef38-4772-aa1a-ff36c609fea2",
   "metadata": {},
   "outputs": [],
   "source": [
    "kfold = StratifiedKFold(n_splits=5)\n",
    "splits = kfold.split(df, df['CLASS'])"
   ]
  },
  {
   "cell_type": "code",
   "execution_count": 16,
   "id": "1791ef40-301f-4b9b-95f9-3365802919d9",
   "metadata": {},
   "outputs": [
    {
     "name": "stdout",
     "output_type": "stream",
     "text": [
      "Split\n",
      "[  0   1   2   3   4   5   6   7   8   9  10  11  12  13  14  15  16  17\n",
      "  18  19  20  21  22  23  24  25  26  27  28  29  30  31  32  33  34  35\n",
      "  36  37  38  39  40  41  42  43  44  45  46  47  48  49  50  51  52  53\n",
      "  54  55  56  57  58  59  60  61  62  63  64  65  66  67  68  69  70  71\n",
      "  72  73  74  75  76  77  78  79  80  81  82  83  84  85  86  87  88  89\n",
      "  90  91  92  93  94  95  96  97  98  99 100 101 102 103 104 105 106 107\n",
      " 108 109 110 111 112 113 114 115 116 117 118 119 120 121 122 123 124 125\n",
      " 126 127 128 129 130 131 132 133 134 135 136 137 138 139 140 141 142 143\n",
      " 144 145 146 147 148 149 150 151 152 153 154 155 156 157 158 159 160 161\n",
      " 162 163 164 165 166 167 168 169 170 171 172 173 174 175 176 177 178 179\n",
      " 180 181 182 183 184 185 186 187 188 189 190 191 192 193 194 195 196 197\n",
      " 198 199 200 201 202 203 204 205 206 207 208 209 210 211 212 213 214 215\n",
      " 216 217 218 219 220 221 222 223 224 225 226 227 228 229 230 231 232 233\n",
      " 234 235 236 237 238 239 240 241 242 243 244 245 246 247 248 249 250 251\n",
      " 252 253 254 255 256 257 258 259 260 261 262 263 264 265 266 267 268 269\n",
      " 270 271 272 273 274 275 276 277 278 279 280 281 282 283 284 285 286 287\n",
      " 288 289 290 291 292 293 294 295 296 297 298 299 300 301 302 303 304 305\n",
      " 306 307 308 309 310 311 312 313 314 315 316 317 318 319 320 321 322 323\n",
      " 324 325 326 327 328 329 330 331 332 333 334 335 336 337 338 339 340 341\n",
      " 342 343 344 345 346 347 348 349 350 351 352 353 354 355 356 357 358 359\n",
      " 360 361 362 363 364 365 366 367 368 369 370 371 372 373 374 375 385 386\n",
      " 389 392 396 397 398 399 406 407 408 411 412 413 417 418] \n",
      "\n",
      "Split\n",
      "[376 377 378 379 380 381 382 383 384 387 388 390 391 393 394 395 400 401\n",
      " 402 403 404 405 409 410 414 415 416 419 420 421 422 423 424 425 426 427\n",
      " 428 429 430 431 432 433 434 435 436 437 438 439 440 441 442 443 444 445\n",
      " 446 447 448 449 450 451 452 453 454 455 456 457 458 459 460 461 462 463\n",
      " 464 465 466 467 468 469 470 471 472 473 474 475 476 477 478 479 480 481\n",
      " 482 483 484 485 486 487 488 489 490 491 492 493 494 495 496 497 498 499\n",
      " 500 501 502 503 504 505 506 507 508 509 510 511 512 513 514 515 516 517\n",
      " 518 519 520 521 522 523 524 525 526 527 528 529 530 531 532 533 534 535\n",
      " 536 537 538 539 540 541 542 543 544 545 546 547 548 549 550 551 552 553\n",
      " 554 555 556 557 558 559 560 561 562 563 564 565 566 567 568 569 570 571\n",
      " 572 573 574 575 576 577 578 579 580 581 582 583 584 585 586 587 588 589\n",
      " 590 591 592 593 594 595 596 597 598 599 600 601 602 603 604 605 606 607\n",
      " 608 609 610 611 612 613 614 615 616 617 618 619 620 621 622 623 624 625\n",
      " 626 627 628 629 630 631 632 633 634 635 636 637 638 639 640 641 642 643\n",
      " 644 645 646 647 648 649 650 651 652 653 654 655 656 657 658 659 660 661\n",
      " 662 663 664 665 666 667 668 669 670 671 672 673 674 675 676 677 678 679\n",
      " 680 681 682 683 684 685 686 687 688 689 690 691 692 693 694 695 696 697\n",
      " 698 699 700 701 702 703 704 705 706 707 708 709 710 711 712 713 714 715\n",
      " 716 717 718 719 720 721 722 723 724 725 726 727 728 729 730 731 748 756\n",
      " 757 775 790 792 795 809 822 823 826 840 843 849 861 869 875 881 887 905\n",
      " 906 907 908 909 910 911 912 913 914 915 916 917 918 919 920 921 922 923\n",
      " 924 925 926 927 928 929 930 931 932 933 934 935 936] \n",
      "\n",
      "Split\n",
      "[ 732  733  734  735  736  737  738  739  740  741  742  743  744  745\n",
      "  746  747  749  750  751  752  753  754  755  758  759  760  761  762\n",
      "  763  764  765  766  767  768  769  770  771  772  773  774  776  777\n",
      "  778  779  780  781  782  783  784  785  786  787  788  789  791  793\n",
      "  794  796  797  798  799  800  801  802  803  804  805  806  807  808\n",
      "  810  811  812  813  814  815  816  817  818  819  820  821  824  825\n",
      "  827  828  829  830  831  832  833  834  835  836  837  838  839  841\n",
      "  842  844  845  846  847  848  850  851  852  853  854  855  856  857\n",
      "  858  859  860  862  863  864  865  866  867  868  870  871  872  873\n",
      "  874  876  877  878  879  880  882  883  884  885  886  888  889  890\n",
      "  891  892  893  894  895  896  897  898  899  900  901  902  903  904\n",
      "  937  938  939  940  941  942  943  944  945  946  947  948  949  950\n",
      "  951  952  953  954  955  956  957  958  959  960  961  962  963  964\n",
      "  965  966  967  968  969  970  971  972  973  974  975  976  977  978\n",
      "  979  980  981  982  983  984  985  986  987  988  989  990  991  992\n",
      "  993  994  995  996  997  998  999 1000 1001 1002 1003 1004 1005 1006\n",
      " 1007 1008 1009 1010 1011 1012 1013 1014 1015 1016 1017 1018 1019 1020\n",
      " 1021 1022 1023 1024 1025 1026 1027 1028 1029 1030 1031 1032 1033 1034\n",
      " 1035 1036 1037 1038 1039 1040 1041 1042 1043 1044 1045 1046 1047 1048\n",
      " 1049 1050 1051 1052 1053 1054 1055 1056 1057 1058 1059 1060 1061 1062\n",
      " 1063 1064 1065 1066 1067 1068 1069 1070 1071 1072 1073 1074 1075 1076\n",
      " 1077 1078 1079 1080 1081 1082 1083 1084 1085 1086 1087 1088 1089 1090\n",
      " 1091 1092 1093 1094 1095 1096 1097 1098 1099 1100 1101 1102 1103 1104\n",
      " 1105 1106 1107 1108 1109 1110 1111 1112 1113 1114 1115 1116 1117 1118\n",
      " 1119 1120 1121 1122 1123 1124 1125 1126 1127 1128 1129 1130 1131 1132\n",
      " 1133 1134 1135 1136 1137 1138 1139 1140 1141 1142 1143 1144 1145 1146\n",
      " 1147 1148 1149 1150 1151 1152 1153 1154 1155 1156 1157 1158 1159 1160\n",
      " 1161 1162 1163 1164 1165 1166 1167 1168 1169 1170 1174 1175 1184] \n",
      "\n",
      "Split\n",
      "[1171 1172 1173 1176 1177 1178 1179 1180 1181 1182 1183 1185 1186 1187\n",
      " 1188 1189 1190 1191 1192 1193 1194 1195 1196 1197 1198 1199 1200 1201\n",
      " 1202 1203 1204 1205 1206 1207 1208 1209 1210 1211 1212 1213 1214 1215\n",
      " 1216 1217 1218 1219 1220 1221 1222 1223 1224 1225 1226 1227 1228 1229\n",
      " 1230 1231 1232 1233 1234 1235 1236 1237 1238 1239 1240 1241 1242 1243\n",
      " 1244 1245 1246 1247 1248 1249 1250 1251 1252 1253 1254 1255 1256 1257\n",
      " 1258 1259 1260 1261 1262 1263 1264 1265 1266 1267 1268 1269 1270 1271\n",
      " 1272 1273 1274 1275 1276 1277 1278 1279 1280 1281 1282 1283 1284 1285\n",
      " 1286 1287 1288 1289 1290 1291 1292 1293 1294 1295 1296 1297 1298 1299\n",
      " 1300 1301 1302 1303 1304 1305 1306 1307 1308 1309 1310 1311 1312 1313\n",
      " 1314 1315 1316 1317 1318 1319 1320 1321 1322 1323 1324 1325 1326 1327\n",
      " 1328 1329 1330 1331 1332 1333 1334 1335 1336 1337 1338 1339 1340 1341\n",
      " 1342 1343 1344 1345 1346 1347 1348 1349 1350 1351 1352 1353 1354 1355\n",
      " 1356 1357 1358 1359 1360 1361 1362 1363 1364 1365 1366 1367 1368 1369\n",
      " 1370 1371 1372 1373 1374 1375 1376 1377 1378 1379 1380 1381 1382 1383\n",
      " 1384 1385 1386 1387 1388 1389 1390 1391 1392 1393 1394 1395 1396 1397\n",
      " 1398 1399 1400 1401 1402 1403 1404 1405 1406 1407 1408 1409 1410 1411\n",
      " 1412 1413 1414 1415 1416 1417 1418 1419 1420 1421 1422 1423 1424 1425\n",
      " 1426 1427 1428 1429 1430 1431 1432 1433 1434 1435 1436 1437 1438 1439\n",
      " 1440 1441 1442 1443 1444 1445 1446 1447 1448 1449 1450 1451 1452 1453\n",
      " 1454 1455 1456 1457 1458 1459 1460 1461 1462 1463 1464 1465 1466 1467\n",
      " 1468 1469 1470 1471 1472 1473 1474 1475 1476 1477 1478 1479 1480 1481\n",
      " 1482 1483 1484 1485 1486 1487 1488 1489 1490 1491 1492 1493 1494 1495\n",
      " 1496 1497 1498 1499 1500 1501 1502 1503 1504 1505 1506 1507 1508 1509\n",
      " 1510 1511 1512 1513 1514 1515 1516 1517 1518 1519 1520 1521 1523 1524\n",
      " 1525 1527 1529 1530 1531 1535 1536 1538 1540 1543 1544 1546 1547 1549\n",
      " 1551 1552 1553 1554 1556 1557 1558 1562 1563 1564 1566 1567 1568 1569\n",
      " 1571 1572 1575 1576 1579 1584 1585 1586 1587 1588 1589 1590 1591] \n",
      "\n",
      "Split\n",
      "[1522 1526 1528 1532 1533 1534 1537 1539 1541 1542 1545 1548 1550 1555\n",
      " 1559 1560 1561 1565 1570 1573 1574 1577 1578 1580 1581 1582 1583 1592\n",
      " 1593 1594 1595 1596 1597 1598 1599 1600 1601 1602 1603 1604 1605 1606\n",
      " 1607 1608 1609 1610 1611 1612 1613 1614 1615 1616 1617 1618 1619 1620\n",
      " 1621 1622 1623 1624 1625 1626 1627 1628 1629 1630 1631 1632 1633 1634\n",
      " 1635 1636 1637 1638 1639 1640 1641 1642 1643 1644 1645 1646 1647 1648\n",
      " 1649 1650 1651 1652 1653 1654 1655 1656 1657 1658 1659 1660 1661 1662\n",
      " 1663 1664 1665 1666 1667 1668 1669 1670 1671 1672 1673 1674 1675 1676\n",
      " 1677 1678 1679 1680 1681 1682 1683 1684 1685 1686 1687 1688 1689 1690\n",
      " 1691 1692 1693 1694 1695 1696 1697 1698 1699 1700 1701 1702 1703 1704\n",
      " 1705 1706 1707 1708 1709 1710 1711 1712 1713 1714 1715 1716 1717 1718\n",
      " 1719 1720 1721 1722 1723 1724 1725 1726 1727 1728 1729 1730 1731 1732\n",
      " 1733 1734 1735 1736 1737 1738 1739 1740 1741 1742 1743 1744 1745 1746\n",
      " 1747 1748 1749 1750 1751 1752 1753 1754 1755 1756 1757 1758 1759 1760\n",
      " 1761 1762 1763 1764 1765 1766 1767 1768 1769 1770 1771 1772 1773 1774\n",
      " 1775 1776 1777 1778 1779 1780 1781 1782 1783 1784 1785 1786 1787 1788\n",
      " 1789 1790 1791 1792 1793 1794 1795 1796 1797 1798 1799 1800 1801 1802\n",
      " 1803 1804 1805 1806 1807 1808 1809 1810 1811 1812 1813 1814 1815 1816\n",
      " 1817 1818 1819 1820 1821 1822 1823 1824 1825 1826 1827 1828 1829 1830\n",
      " 1831 1832 1833 1834 1835 1836 1837 1838 1839 1840 1841 1842 1843 1844\n",
      " 1845 1846 1847 1848 1849 1850 1851 1852 1853 1854 1855 1856 1857 1858\n",
      " 1859 1860 1861 1862 1863 1864 1865 1866 1867 1868 1869 1870 1871 1872\n",
      " 1873 1874 1875 1876 1877 1878 1879 1880 1881 1882 1883 1884 1885 1886\n",
      " 1887 1888 1889 1890 1891 1892 1893 1894 1895 1896 1897 1898 1899 1900\n",
      " 1901 1902 1903 1904 1905 1906 1907 1908 1909 1910 1911 1912 1913 1914\n",
      " 1915 1916 1917 1918 1919 1920 1921 1922 1923 1924 1925 1926 1927 1928\n",
      " 1929 1930 1931 1932 1933 1934 1935 1936 1937 1938 1939 1940 1941 1942\n",
      " 1943 1944 1945 1946 1947 1948 1949 1950 1951 1952 1953 1954 1955] \n",
      "\n"
     ]
    }
   ],
   "source": [
    "for train, test in splits:\n",
    "    print('Split')\n",
    "    print(test, '\\n') # It produces the indexes of the original dataset for those splits:"
   ]
  },
  {
   "cell_type": "markdown",
   "id": "c176d236-111f-47b8-824c-efde1abfe8ca",
   "metadata": {},
   "source": [
    "### build the neural network model"
   ]
  },
  {
   "cell_type": "code",
   "execution_count": 22,
   "id": "8771a027-4cdd-40b6-ae62-b2e52fddc384",
   "metadata": {},
   "outputs": [],
   "source": [
    "from tensorflow.keras import models\n",
    "from tensorflow.keras import layers\n",
    "from tensorflow.keras.preprocessing.text import Tokenizer\n",
    "import numpy as np"
   ]
  },
  {
   "cell_type": "code",
   "execution_count": 27,
   "id": "b17c5f80-8e25-4383-b6e9-44df20fa3460",
   "metadata": {},
   "outputs": [],
   "source": [
    "def train_and_test(train_idx, test_idx):\n",
    "    \n",
    "    train_data = df['CONTENT'].iloc[train_idx]\n",
    "    test_data = df['CONTENT'].iloc[test_idx]\n",
    "    \n",
    "    tokenizer = Tokenizer(num_words = 2000)\n",
    "    \n",
    "    tokenizer.fit_on_texts(train_data)\n",
    "    \n",
    "    train_input = tokenizer.texts_to_matrix(train_data, mode='tfidf') # options includes 'tfidf', 'binary', and 'freq'\n",
    "    test_input = tokenizer.texts_to_matrix(test_data, mode='tfidf')\n",
    "    \n",
    "    train_input = train_input/np.amax(np.abs(train_input))\n",
    "    test_input = test_input/np.amax(np.abs(test_input))\n",
    "    \n",
    "    train_input = train_input - np.mean(train_input)\n",
    "    test_input = test_input - np.mean(test_input)\n",
    "    \n",
    "    train_class = df['CLASS'].iloc[train_idx]\n",
    "    test_class = df['CLASS'].iloc[test_idx]\n",
    "    \n",
    "    network = models.Sequential()\n",
    "    network.add(layers.Dense(512, activation='relu', input_shape=(2000,)))\n",
    "    network.add(layers.Dropout(0.5))\n",
    "    network.add(layers.Dense(256, activation='relu'))\n",
    "    network.add(layers.Dropout(0.5))\n",
    "    network.add(layers.Dense(1, activation='sigmoid'))\n",
    "    \n",
    "    network.compile(optimizer='adam', loss='binary_crossentropy', metrics = ['acc'])\n",
    "    \n",
    "    network.fit(train_input, train_class, epochs=10, batch_size=256)\n",
    "    \n",
    "    score = network.evaluate(test_input, test_class)\n",
    "    \n",
    "    return score\n"
   ]
  },
  {
   "cell_type": "code",
   "execution_count": 46,
   "id": "6fee97f2-00f1-429a-99f0-9fe15d33d09a",
   "metadata": {},
   "outputs": [
    {
     "name": "stdout",
     "output_type": "stream",
     "text": [
      "Epoch 1/10\n",
      "1564/1564 [==============================] - 1s 594us/step - loss: 0.6830 - acc: 0.5013\n",
      "Epoch 2/10\n",
      "1564/1564 [==============================] - 0s 72us/step - loss: 0.6369 - acc: 0.5448\n",
      "Epoch 3/10\n",
      "1564/1564 [==============================] - 0s 67us/step - loss: 0.5585 - acc: 0.8229\n",
      "Epoch 4/10\n",
      "1564/1564 [==============================] - 0s 69us/step - loss: 0.4499 - acc: 0.9182\n",
      "Epoch 5/10\n",
      "1564/1564 [==============================] - 0s 66us/step - loss: 0.3093 - acc: 0.9508\n",
      "Epoch 6/10\n",
      "1564/1564 [==============================] - 0s 66us/step - loss: 0.1905 - acc: 0.9674\n",
      "Epoch 7/10\n",
      "1564/1564 [==============================] - 0s 79us/step - loss: 0.1198 - acc: 0.9712\n",
      "Epoch 8/10\n",
      "1564/1564 [==============================] - 0s 75us/step - loss: 0.0849 - acc: 0.9783\n",
      "Epoch 9/10\n",
      "1564/1564 [==============================] - 0s 71us/step - loss: 0.0617 - acc: 0.9795\n",
      "Epoch 10/10\n",
      "1564/1564 [==============================] - 0s 72us/step - loss: 0.0532 - acc: 0.9885\n",
      "392/392 [==============================] - 0s 749us/step\n",
      "Epoch 1/10\n",
      "1565/1565 [==============================] - 1s 590us/step - loss: 0.6828 - acc: 0.5898\n",
      "Epoch 2/10\n",
      "1565/1565 [==============================] - 0s 70us/step - loss: 0.6407 - acc: 0.5572\n",
      "Epoch 3/10\n",
      "1565/1565 [==============================] - 0s 69us/step - loss: 0.5640 - acc: 0.8204\n",
      "Epoch 4/10\n",
      "1565/1565 [==============================] - 0s 68us/step - loss: 0.4470 - acc: 0.9169\n",
      "Epoch 5/10\n",
      "1565/1565 [==============================] - 0s 68us/step - loss: 0.3089 - acc: 0.9565\n",
      "Epoch 6/10\n",
      "1565/1565 [==============================] - 0s 67us/step - loss: 0.1917 - acc: 0.9617\n",
      "Epoch 7/10\n",
      "1565/1565 [==============================] - 0s 68us/step - loss: 0.1179 - acc: 0.9744\n",
      "Epoch 8/10\n",
      "1565/1565 [==============================] - 0s 71us/step - loss: 0.0800 - acc: 0.9808\n",
      "Epoch 9/10\n",
      "1565/1565 [==============================] - 0s 68us/step - loss: 0.0568 - acc: 0.9853\n",
      "Epoch 10/10\n",
      "1565/1565 [==============================] - 0s 67us/step - loss: 0.0553 - acc: 0.9834\n",
      "391/391 [==============================] - 0s 790us/step\n",
      "Epoch 1/10\n",
      "1565/1565 [==============================] - 1s 627us/step - loss: 0.6837 - acc: 0.5419\n",
      "Epoch 2/10\n",
      "1565/1565 [==============================] - 0s 68us/step - loss: 0.6410 - acc: 0.6051\n",
      "Epoch 3/10\n",
      "1565/1565 [==============================] - 0s 71us/step - loss: 0.5665 - acc: 0.8300\n",
      "Epoch 4/10\n",
      "1565/1565 [==============================] - 0s 68us/step - loss: 0.4598 - acc: 0.9042\n",
      "Epoch 5/10\n",
      "1565/1565 [==============================] - 0s 65us/step - loss: 0.3231 - acc: 0.9508\n",
      "Epoch 6/10\n",
      "1565/1565 [==============================] - 0s 66us/step - loss: 0.2005 - acc: 0.9693\n",
      "Epoch 7/10\n",
      "1565/1565 [==============================] - 0s 70us/step - loss: 0.1254 - acc: 0.9751\n",
      "Epoch 8/10\n",
      "1565/1565 [==============================] - 0s 64us/step - loss: 0.0877 - acc: 0.9789\n",
      "Epoch 9/10\n",
      "1565/1565 [==============================] - 0s 64us/step - loss: 0.0686 - acc: 0.9834\n",
      "Epoch 10/10\n",
      "1565/1565 [==============================] - 0s 65us/step - loss: 0.0496 - acc: 0.9885\n",
      "391/391 [==============================] - 0s 832us/step\n",
      "Epoch 1/10\n",
      "1565/1565 [==============================] - 1s 678us/step - loss: 0.6862 - acc: 0.5796\n",
      "Epoch 2/10\n",
      "1565/1565 [==============================] - 0s 66us/step - loss: 0.6535 - acc: 0.6300\n",
      "Epoch 3/10\n",
      "1565/1565 [==============================] - 0s 67us/step - loss: 0.5844 - acc: 0.8083\n",
      "Epoch 4/10\n",
      "1565/1565 [==============================] - 0s 70us/step - loss: 0.4674 - acc: 0.9259\n",
      "Epoch 5/10\n",
      "1565/1565 [==============================] - 0s 68us/step - loss: 0.3262 - acc: 0.9502\n",
      "Epoch 6/10\n",
      "1565/1565 [==============================] - 0s 63us/step - loss: 0.2023 - acc: 0.9565\n",
      "Epoch 7/10\n",
      "1565/1565 [==============================] - 0s 66us/step - loss: 0.1286 - acc: 0.9700\n",
      "Epoch 8/10\n",
      "1565/1565 [==============================] - 0s 74us/step - loss: 0.0913 - acc: 0.9712\n",
      "Epoch 9/10\n",
      "1565/1565 [==============================] - 0s 67us/step - loss: 0.0660 - acc: 0.9847\n",
      "Epoch 10/10\n",
      "1565/1565 [==============================] - 0s 64us/step - loss: 0.0538 - acc: 0.9859\n",
      "391/391 [==============================] - 0s 881us/step\n",
      "Epoch 1/10\n",
      "1565/1565 [==============================] - 1s 712us/step - loss: 0.6874 - acc: 0.5214\n",
      "Epoch 2/10\n",
      "1565/1565 [==============================] - 0s 77us/step - loss: 0.6572 - acc: 0.5278\n",
      "Epoch 3/10\n",
      "1565/1565 [==============================] - 0s 73us/step - loss: 0.5947 - acc: 0.7425\n",
      "Epoch 4/10\n",
      "1565/1565 [==============================] - 0s 78us/step - loss: 0.4837 - acc: 0.9252\n",
      "Epoch 5/10\n",
      "1565/1565 [==============================] - 0s 70us/step - loss: 0.3441 - acc: 0.9565\n",
      "Epoch 6/10\n",
      "1565/1565 [==============================] - 0s 97us/step - loss: 0.2130 - acc: 0.9585\n",
      "Epoch 7/10\n",
      "1565/1565 [==============================] - 0s 95us/step - loss: 0.1287 - acc: 0.9738\n",
      "Epoch 8/10\n",
      "1565/1565 [==============================] - 0s 74us/step - loss: 0.0866 - acc: 0.9796\n",
      "Epoch 9/10\n",
      "1565/1565 [==============================] - 0s 70us/step - loss: 0.0584 - acc: 0.9827\n",
      "Epoch 10/10\n",
      "1565/1565 [==============================] - 0s 71us/step - loss: 0.0446 - acc: 0.9853\n",
      "391/391 [==============================] - 0s 1ms/step\n"
     ]
    }
   ],
   "source": [
    "kfold = StratifiedKFold(n_splits=5)\n",
    "splits = kfold.split(df, df['CLASS'])\n",
    "cvscores = []\n",
    "for train_idx, test_idx in splits:\n",
    "    loss, acc = train_and_test(train_idx, test_idx)\n",
    "    cvscores.append(acc)"
   ]
  },
  {
   "cell_type": "code",
   "execution_count": 47,
   "id": "c78f3051-9c39-4d79-8cb1-1624b24f6c10",
   "metadata": {},
   "outputs": [
    {
     "data": {
      "text/plain": [
       "[0.9209183673469388,\n",
       " 0.9437340153452686,\n",
       " 0.948849104859335,\n",
       " 0.9386189258312021,\n",
       " 0.9309462915601023]"
      ]
     },
     "execution_count": 47,
     "metadata": {},
     "output_type": "execute_result"
    }
   ],
   "source": [
    "cvscores"
   ]
  },
  {
   "cell_type": "code",
   "execution_count": 48,
   "id": "1f8e63b6-acb5-4617-baa2-2c5d9d276a32",
   "metadata": {},
   "outputs": [
    {
     "data": {
      "text/plain": [
       "0.9366133409885695"
      ]
     },
     "execution_count": 48,
     "metadata": {},
     "output_type": "execute_result"
    }
   ],
   "source": [
    "np.mean(cvscores) # the neural model acchive about 94% average accuracy "
   ]
  },
  {
   "cell_type": "code",
   "execution_count": null,
   "id": "e0f3766c-4cbe-413e-ab68-ff1efd8d0af8",
   "metadata": {},
   "outputs": [],
   "source": [
    "prediction = "
   ]
  }
 ],
 "metadata": {
  "kernelspec": {
   "display_name": "Python 3 (ipykernel)",
   "language": "python",
   "name": "python3"
  },
  "language_info": {
   "codemirror_mode": {
    "name": "ipython",
    "version": 3
   },
   "file_extension": ".py",
   "mimetype": "text/x-python",
   "name": "python",
   "nbconvert_exporter": "python",
   "pygments_lexer": "ipython3",
   "version": "3.9.7"
  }
 },
 "nbformat": 4,
 "nbformat_minor": 5
}
