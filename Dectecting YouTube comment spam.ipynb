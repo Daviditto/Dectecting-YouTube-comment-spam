{
 "cells": [
  {
   "cell_type": "markdown",
   "id": "852568fd-3957-447b-9316-f9b245c08525",
   "metadata": {},
   "source": [
    "# Dectecting YouTube comment spam"
   ]
  },
  {
   "cell_type": "markdown",
   "id": "b5b4c1a8-b976-43b4-a7fa-2bd2db7cb61e",
   "metadata": {},
   "source": [
    "### load the dataset"
   ]
  },
  {
   "cell_type": "code",
   "execution_count": 1,
   "id": "2ba9c1c1-7ae0-46bf-8548-e993a530293a",
   "metadata": {},
   "outputs": [],
   "source": [
    "import pandas as pd"
   ]
  },
  {
   "cell_type": "code",
   "execution_count": 2,
   "id": "f45bee9d-6019-4115-a16b-c0c76bf3ba1f",
   "metadata": {},
   "outputs": [],
   "source": [
    "df = pd.read_csv('YouTube-Spam-Collection-v1/YouTube01-Psy.csv')"
   ]
  },
  {
   "cell_type": "code",
   "execution_count": 4,
   "id": "f514da24-1558-46fa-8551-3ef1468922d7",
   "metadata": {},
   "outputs": [
    {
     "data": {
      "text/html": [
       "<div>\n",
       "<style scoped>\n",
       "    .dataframe tbody tr th:only-of-type {\n",
       "        vertical-align: middle;\n",
       "    }\n",
       "\n",
       "    .dataframe tbody tr th {\n",
       "        vertical-align: top;\n",
       "    }\n",
       "\n",
       "    .dataframe thead th {\n",
       "        text-align: right;\n",
       "    }\n",
       "</style>\n",
       "<table border=\"1\" class=\"dataframe\">\n",
       "  <thead>\n",
       "    <tr style=\"text-align: right;\">\n",
       "      <th></th>\n",
       "      <th>COMMENT_ID</th>\n",
       "      <th>AUTHOR</th>\n",
       "      <th>DATE</th>\n",
       "      <th>CONTENT</th>\n",
       "      <th>CLASS</th>\n",
       "    </tr>\n",
       "  </thead>\n",
       "  <tbody>\n",
       "    <tr>\n",
       "      <th>0</th>\n",
       "      <td>LZQPQhLyRh80UYxNuaDWhIGQYNQ96IuCg-AYWqNPjpU</td>\n",
       "      <td>Julius NM</td>\n",
       "      <td>2013-11-07T06:20:48</td>\n",
       "      <td>Huh, anyway check out this you[tube] channel: ...</td>\n",
       "      <td>1</td>\n",
       "    </tr>\n",
       "    <tr>\n",
       "      <th>1</th>\n",
       "      <td>LZQPQhLyRh_C2cTtd9MvFRJedxydaVW-2sNg5Diuo4A</td>\n",
       "      <td>adam riyati</td>\n",
       "      <td>2013-11-07T12:37:15</td>\n",
       "      <td>Hey guys check out my new channel and our firs...</td>\n",
       "      <td>1</td>\n",
       "    </tr>\n",
       "    <tr>\n",
       "      <th>2</th>\n",
       "      <td>LZQPQhLyRh9MSZYnf8djyk0gEF9BHDPYrrK-qCczIY8</td>\n",
       "      <td>Evgeny Murashkin</td>\n",
       "      <td>2013-11-08T17:34:21</td>\n",
       "      <td>just for test I have to say murdev.com</td>\n",
       "      <td>1</td>\n",
       "    </tr>\n",
       "    <tr>\n",
       "      <th>3</th>\n",
       "      <td>z13jhp0bxqncu512g22wvzkasxmvvzjaz04</td>\n",
       "      <td>ElNino Melendez</td>\n",
       "      <td>2013-11-09T08:28:43</td>\n",
       "      <td>me shaking my sexy ass on my channel enjoy ^_^ ﻿</td>\n",
       "      <td>1</td>\n",
       "    </tr>\n",
       "    <tr>\n",
       "      <th>4</th>\n",
       "      <td>z13fwbwp1oujthgqj04chlngpvzmtt3r3dw</td>\n",
       "      <td>GsMega</td>\n",
       "      <td>2013-11-10T16:05:38</td>\n",
       "      <td>watch?v=vtaRGgvGtWQ   Check this out .﻿</td>\n",
       "      <td>1</td>\n",
       "    </tr>\n",
       "  </tbody>\n",
       "</table>\n",
       "</div>"
      ],
      "text/plain": [
       "                                    COMMENT_ID            AUTHOR  \\\n",
       "0  LZQPQhLyRh80UYxNuaDWhIGQYNQ96IuCg-AYWqNPjpU         Julius NM   \n",
       "1  LZQPQhLyRh_C2cTtd9MvFRJedxydaVW-2sNg5Diuo4A       adam riyati   \n",
       "2  LZQPQhLyRh9MSZYnf8djyk0gEF9BHDPYrrK-qCczIY8  Evgeny Murashkin   \n",
       "3          z13jhp0bxqncu512g22wvzkasxmvvzjaz04   ElNino Melendez   \n",
       "4          z13fwbwp1oujthgqj04chlngpvzmtt3r3dw            GsMega   \n",
       "\n",
       "                  DATE                                            CONTENT  \\\n",
       "0  2013-11-07T06:20:48  Huh, anyway check out this you[tube] channel: ...   \n",
       "1  2013-11-07T12:37:15  Hey guys check out my new channel and our firs...   \n",
       "2  2013-11-08T17:34:21             just for test I have to say murdev.com   \n",
       "3  2013-11-09T08:28:43   me shaking my sexy ass on my channel enjoy ^_^ ﻿   \n",
       "4  2013-11-10T16:05:38            watch?v=vtaRGgvGtWQ   Check this out .﻿   \n",
       "\n",
       "   CLASS  \n",
       "0      1  \n",
       "1      1  \n",
       "2      1  \n",
       "3      1  \n",
       "4      1  "
      ]
     },
     "execution_count": 4,
     "metadata": {},
     "output_type": "execute_result"
    }
   ],
   "source": [
    "df.head()"
   ]
  },
  {
   "cell_type": "code",
   "execution_count": 6,
   "id": "cc57a59f-47ce-4d34-b73a-b6623bda7c69",
   "metadata": {},
   "outputs": [
    {
     "data": {
      "text/plain": [
       "COMMENT_ID    0\n",
       "AUTHOR        0\n",
       "DATE          0\n",
       "CONTENT       0\n",
       "CLASS         0\n",
       "dtype: int64"
      ]
     },
     "execution_count": 6,
     "metadata": {},
     "output_type": "execute_result"
    }
   ],
   "source": [
    "df.isnull().sum() # there is no missing data"
   ]
  },
  {
   "cell_type": "code",
   "execution_count": 11,
   "id": "04214a7b-e147-4686-88e9-816cd90e5ee7",
   "metadata": {},
   "outputs": [
    {
     "data": {
      "text/plain": [
       "1    175\n",
       "0    175\n",
       "Name: CLASS, dtype: int64"
      ]
     },
     "execution_count": 11,
     "metadata": {},
     "output_type": "execute_result"
    }
   ],
   "source": [
    "df['CLASS'].value_counts() # even class"
   ]
  },
  {
   "cell_type": "markdown",
   "id": "363feacd-e40a-46ba-a909-23f1c4f77b96",
   "metadata": {
    "tags": []
   },
   "source": [
    "### split the data into train and test set"
   ]
  },
  {
   "cell_type": "code",
   "execution_count": 14,
   "id": "8b4ac682-f0f5-41e9-bd0f-7da6b70d2107",
   "metadata": {},
   "outputs": [],
   "source": [
    "from sklearn.feature_extraction.text import CountVectorizer\n",
    "from sklearn.model_selection import train_test_split"
   ]
  },
  {
   "cell_type": "code",
   "execution_count": 24,
   "id": "58231893-4c60-4ce5-a48d-db4e06a64514",
   "metadata": {},
   "outputs": [],
   "source": [
    "X = df['CONTENT']\n",
    "y = df['CLASS']"
   ]
  },
  {
   "cell_type": "code",
   "execution_count": 25,
   "id": "720e1b4a-3af3-4082-b69f-536f95aadf06",
   "metadata": {},
   "outputs": [],
   "source": [
    "Xtrain, Xtest, ytrain, ytest= train_test_split(X, y, test_size=0.3, random_state=101, shuffle=True)"
   ]
  },
  {
   "cell_type": "code",
   "execution_count": 26,
   "id": "440b2cdd-1d2f-48fb-944e-2807a1220f36",
   "metadata": {},
   "outputs": [],
   "source": [
    "vectorizer = CountVectorizer()"
   ]
  },
  {
   "cell_type": "code",
   "execution_count": 27,
   "id": "af1cc9a5-8352-4f39-a6aa-3a0ed38ec595",
   "metadata": {},
   "outputs": [],
   "source": [
    "Xtrain = vectorizer.fit_transform(Xtrain)"
   ]
  },
  {
   "cell_type": "code",
   "execution_count": 28,
   "id": "103ed8b0-db50-4368-b9a1-74ca3bac11a0",
   "metadata": {},
   "outputs": [],
   "source": [
    "Xtest = vectorizer.transform(Xtest)"
   ]
  },
  {
   "cell_type": "code",
   "execution_count": 34,
   "id": "10b85a72-659f-481b-8bd2-83363a009fe6",
   "metadata": {},
   "outputs": [
    {
     "data": {
      "text/plain": [
       "{'analyzer': 'word',\n",
       " 'binary': False,\n",
       " 'decode_error': 'strict',\n",
       " 'dtype': numpy.int64,\n",
       " 'encoding': 'utf-8',\n",
       " 'input': 'content',\n",
       " 'lowercase': True,\n",
       " 'max_df': 1.0,\n",
       " 'max_features': None,\n",
       " 'min_df': 1,\n",
       " 'ngram_range': (1, 1),\n",
       " 'preprocessor': None,\n",
       " 'stop_words': None,\n",
       " 'strip_accents': None,\n",
       " 'token_pattern': '(?u)\\\\b\\\\w\\\\w+\\\\b',\n",
       " 'tokenizer': None,\n",
       " 'vocabulary': None}"
      ]
     },
     "execution_count": 34,
     "metadata": {},
     "output_type": "execute_result"
    }
   ],
   "source": [
    "vectorizer.get_params()"
   ]
  },
  {
   "cell_type": "code",
   "execution_count": 45,
   "id": "835b4020-1a80-4a93-ae24-ceca30c224ab",
   "metadata": {},
   "outputs": [
    {
     "data": {
      "text/plain": [
       "<245x1057 sparse matrix of type '<class 'numpy.int64'>'\n",
       "\twith 2921 stored elements in Compressed Sparse Row format>"
      ]
     },
     "execution_count": 45,
     "metadata": {},
     "output_type": "execute_result"
    }
   ],
   "source": [
    "Xtrain # we have 1057 words, which are words that appear across all of these phrases\n",
    "       # the train dataset has 245 rows"
   ]
  },
  {
   "cell_type": "code",
   "execution_count": 47,
   "id": "5f65c1b3-22a3-4db5-89c0-e4b474b36dac",
   "metadata": {},
   "outputs": [
    {
     "data": {
      "text/plain": [
       "<105x1057 sparse matrix of type '<class 'numpy.int64'>'\n",
       "\twith 1048 stored elements in Compressed Sparse Row format>"
      ]
     },
     "execution_count": 47,
     "metadata": {},
     "output_type": "execute_result"
    }
   ],
   "source": [
    "Xtest # the test dataset has 105 rows"
   ]
  },
  {
   "cell_type": "code",
   "execution_count": 44,
   "id": "4027c677-c7d8-423e-b7a6-510ac718df7b",
   "metadata": {},
   "outputs": [
    {
     "name": "stdout",
     "output_type": "stream",
     "text": [
      "['vaahidmustafic', 'vakinha', 'vaquinhae', 'vb', 'vid', 'video', 'videos', 'vidios', 'vids', 'view', 'viewed', 'viewer', 'viewing', 'views', 'vip', 'viral', 'virus', 'visiting', 'visits', 'visor', 'visortwin', 'visuelgamingznl', 'voteme', 'voyage', 'wake', 'wallet', 'wank', 'want', 'wanted', 'was', 'wasn', 'waste', 'watch', 'watching', 'water', 'we', 'website', 'weird', 'welcome', 'well', 'wellcome', 'went', 'were', 'westerners', 'what', 'whatever', 'whats', 'when', 'where', 'while', 'white', 'who', 'why', 'wiews', 'will', 'win', 'window', 'windshield', 'with', 'within', 'wonder', 'wonderful', 'woobox', 'words', 'world', 'worldwide_life', 'worth', 'worthless', 'would', 'wow', 'wp', 'wrap', 'wrong', 'www', 'www10', 'xd', 'xx', 'xxbb5tczhm39hvzd', 'yeah', 'year', 'years', 'yeat', 'yellow', 'yet', 'yg', 'you', 'your', 'youtu', 'youtube', 'youtube_corporation_fox_broadcasting_company_anular_os_strikes_no_canal_nostalgia', 'youtuber', 'yr', 'zombie', 'zxlightsoutxz', '강남스타일', 'ｃｏｍｍｅｎｔ', 'ｄａｍｎ', 'ｆａｎｃy', 'ｉｓ', 'ｔｈｉｓ']\n"
     ]
    }
   ],
   "source": [
    "print(vectorizer.get_feature_names()[-100:]) # the last 100 words "
   ]
  },
  {
   "cell_type": "markdown",
   "id": "948086fc-ef62-4a3d-8fb4-b355f2639f46",
   "metadata": {},
   "source": [
    "### build a Random Forest model"
   ]
  },
  {
   "cell_type": "code",
   "execution_count": 49,
   "id": "a30681f8-ce53-4e9b-92d1-49046d47e588",
   "metadata": {},
   "outputs": [],
   "source": [
    "from sklearn.ensemble import RandomForestClassifier"
   ]
  },
  {
   "cell_type": "code",
   "execution_count": 51,
   "id": "b1db6824-14c9-42f8-a458-d615a5edc197",
   "metadata": {},
   "outputs": [],
   "source": [
    "clf = RandomForestClassifier(n_estimators=80)"
   ]
  },
  {
   "cell_type": "code",
   "execution_count": 52,
   "id": "f19135cc-0f08-41bb-a4e8-994526c356bf",
   "metadata": {},
   "outputs": [
    {
     "data": {
      "text/plain": [
       "RandomForestClassifier(n_estimators=80)"
      ]
     },
     "execution_count": 52,
     "metadata": {},
     "output_type": "execute_result"
    }
   ],
   "source": [
    "clf.fit(Xtrain, ytrain)"
   ]
  },
  {
   "cell_type": "code",
   "execution_count": 56,
   "id": "5d39ca08-e16e-43c7-9548-c3ddefcbbcaf",
   "metadata": {},
   "outputs": [
    {
     "data": {
      "text/plain": [
       "0.9523809523809523"
      ]
     },
     "execution_count": 56,
     "metadata": {},
     "output_type": "execute_result"
    }
   ],
   "source": [
    "clf.score(Xtest, ytest) # this model performs well enough"
   ]
  },
  {
   "cell_type": "markdown",
   "id": "d0a65942-a595-43b7-9f52-f93a34d8fd42",
   "metadata": {},
   "source": [
    "### evaluate the model"
   ]
  },
  {
   "cell_type": "code",
   "execution_count": 70,
   "id": "77a067c6-0faf-4c15-9e79-01d9136e68e5",
   "metadata": {},
   "outputs": [],
   "source": [
    "from sklearn.metrics import confusion_matrix\n",
    "from sklearn.metrics import classification_report\n",
    "import seaborn as sns\n",
    "import matplotlib.pyplot as plt"
   ]
  },
  {
   "cell_type": "code",
   "execution_count": 71,
   "id": "07c6ee60-0b37-4fe5-bd33-b4bfcae20e5a",
   "metadata": {},
   "outputs": [],
   "source": [
    "prediction = clf.predict(Xtest)"
   ]
  },
  {
   "cell_type": "code",
   "execution_count": 75,
   "id": "672d1903-49b5-4fb0-9b68-e41a0f1dcdc0",
   "metadata": {},
   "outputs": [
    {
     "data": {
      "image/png": "[encoded data removed]",
      "text/plain": [
       "<Figure size 288x288 with 1 Axes>"
      ]
     },
     "metadata": {
      "needs_background": "light"
     },
     "output_type": "display_data"
    }
   ],
   "source": [
    "sns.heatmap(confusion_matrix(prediction , ytest), cbar=False, annot=True);\n",
    "fig = plt.gcf()\n",
    "fig.set_size_inches(4, 4)"
   ]
  },
  {
   "cell_type": "code",
   "execution_count": 76,
   "id": "636470eb-10e1-47c8-a633-b387ee1eb8d4",
   "metadata": {},
   "outputs": [
    {
     "name": "stdout",
     "output_type": "stream",
     "text": [
      "              precision    recall  f1-score   support\n",
      "\n",
      "           0       0.98      0.92      0.95        52\n",
      "           1       0.93      0.98      0.95        53\n",
      "\n",
      "    accuracy                           0.95       105\n",
      "   macro avg       0.95      0.95      0.95       105\n",
      "weighted avg       0.95      0.95      0.95       105\n",
      "\n"
     ]
    }
   ],
   "source": [
    "print(classification_report(prediction,ytest))"
   ]
  },
  {
   "cell_type": "code",
   "execution_count": 77,
   "id": "88f5e654-bd08-4ff1-b6ca-510bc9a7bb68",
   "metadata": {},
   "outputs": [],
   "source": [
    "from sklearn.model_selection import cross_val_score"
   ]
  },
  {
   "cell_type": "code",
   "execution_count": 86,
   "id": "e0f03eb2-900c-496d-b32d-c06224b3ce01",
   "metadata": {},
   "outputs": [
    {
     "name": "stdout",
     "output_type": "stream",
     "text": [
      "Accuracy: 0.95 (+/- 0.07)\n"
     ]
    }
   ],
   "source": [
    "scores = cross_val_score(clf, Xtrain, ytrain, cv=5)\n",
    "print('Accuracy: %0.2f (+/- %0.2f)' % (scores.mean(), scores.std()*2))"
   ]
  },
  {
   "cell_type": "markdown",
   "id": "41fb6a93-2206-44b1-8e95-30aa112c2082",
   "metadata": {},
   "source": [
    "### load a combined new data set "
   ]
  },
  {
   "cell_type": "code",
   "execution_count": 87,
   "id": "5b6fff2b-68ac-4368-b1e5-5cb388b9894a",
   "metadata": {},
   "outputs": [],
   "source": [
    "new_df = pd.concat([pd.read_csv('YouTube-Spam-Collection-v1/YouTube01-Psy.csv'), \n",
    "                    pd.read_csv('YouTube-Spam-Collection-v1/Youtube02-KatyPerry.csv'), \n",
    "                    pd.read_csv('YouTube-Spam-Collection-v1/Youtube03-LMFAO.csv'), \n",
    "                    pd.read_csv('YouTube-Spam-Collection-v1/Youtube04-Eminem.csv'), \n",
    "                    pd.read_csv('YouTube-Spam-Collection-v1/Youtube05-Shakira.csv')])"
   ]
  },
  {
   "cell_type": "code",
   "execution_count": 89,
   "id": "c6cf21fe-f6a2-4a18-b531-2d2e4518f696",
   "metadata": {},
   "outputs": [
    {
     "name": "stdout",
     "output_type": "stream",
     "text": [
      "<class 'pandas.core.frame.DataFrame'>\n",
      "Int64Index: 1956 entries, 0 to 369\n",
      "Data columns (total 5 columns):\n",
      " #   Column      Non-Null Count  Dtype \n",
      "---  ------      --------------  ----- \n",
      " 0   COMMENT_ID  1956 non-null   object\n",
      " 1   AUTHOR      1956 non-null   object\n",
      " 2   DATE        1711 non-null   object\n",
      " 3   CONTENT     1956 non-null   object\n",
      " 4   CLASS       1956 non-null   int64 \n",
      "dtypes: int64(1), object(4)\n",
      "memory usage: 91.7+ KB\n"
     ]
    }
   ],
   "source": [
    "new_df.info()"
   ]
  },
  {
   "cell_type": "code",
   "execution_count": 92,
   "id": "7377738c-6f0b-49a1-a41c-666f6de38ea2",
   "metadata": {},
   "outputs": [
    {
     "data": {
      "text/plain": [
       "COMMENT_ID      0\n",
       "AUTHOR          0\n",
       "DATE          245\n",
       "CONTENT         0\n",
       "CLASS           0\n",
       "dtype: int64"
      ]
     },
     "execution_count": 92,
     "metadata": {},
     "output_type": "execute_result"
    }
   ],
   "source": [
    "new_df.isnull().sum()"
   ]
  },
  {
   "cell_type": "code",
   "execution_count": 95,
   "id": "2c3a2108-b88e-4ace-8780-75e29fbc6220",
   "metadata": {},
   "outputs": [
    {
     "data": {
      "text/plain": [
       "1    1005\n",
       "0     951\n",
       "Name: CLASS, dtype: int64"
      ]
     },
     "execution_count": 95,
     "metadata": {},
     "output_type": "execute_result"
    }
   ],
   "source": [
    "new_df['CLASS'].value_counts()"
   ]
  },
  {
   "cell_type": "code",
   "execution_count": 97,
   "id": "f5665073-971a-483d-9fd1-af5f267876b1",
   "metadata": {},
   "outputs": [],
   "source": [
    "df_new = new_df.sample(frac=1)"
   ]
  },
  {
   "cell_type": "code",
   "execution_count": 99,
   "id": "57a16ba3-7ba5-432f-a76a-50dd48386f10",
   "metadata": {},
   "outputs": [],
   "source": [
    "X = df_new['CONTENT']\n",
    "y = df_new['CLASS']"
   ]
  },
  {
   "cell_type": "markdown",
   "id": "ef576366-be73-4901-bdaf-e2f41fcd5c00",
   "metadata": {},
   "source": [
    "### build a pipeline"
   ]
  },
  {
   "cell_type": "code",
   "execution_count": 104,
   "id": "c95275e3-7949-4638-8257-8d5cf8529af3",
   "metadata": {},
   "outputs": [],
   "source": [
    "from sklearn.pipeline import Pipeline\n",
    "from sklearn.model_selection import train_test_split"
   ]
  },
  {
   "cell_type": "code",
   "execution_count": 105,
   "id": "d076c3f0-b48d-4cfd-9eef-6fffbdeb5918",
   "metadata": {},
   "outputs": [],
   "source": [
    "Xtrain, Xtest, ytrain, ytest= train_test_split(X, y, test_size=0.3, random_state=101)"
   ]
  },
  {
   "cell_type": "code",
   "execution_count": 106,
   "id": "988f4056-9d13-4c19-b9a5-09acf05adb93",
   "metadata": {},
   "outputs": [],
   "source": [
    "pipe = Pipeline([('vectorizer', CountVectorizer()), ('clf', RandomForestClassifier())])"
   ]
  },
  {
   "cell_type": "code",
   "execution_count": 107,
   "id": "7f92eda3-9561-4894-8ec1-f6d98a05b9cd",
   "metadata": {},
   "outputs": [
    {
     "data": {
      "text/plain": [
       "Pipeline(steps=[('vectorizer', CountVectorizer()),\n",
       "                ('clf', RandomForestClassifier())])"
      ]
     },
     "execution_count": 107,
     "metadata": {},
     "output_type": "execute_result"
    }
   ],
   "source": [
    "pipe"
   ]
  },
  {
   "cell_type": "code",
   "execution_count": 108,
   "id": "ad3d5e19-37cc-4494-971b-5e490175fbfc",
   "metadata": {},
   "outputs": [
    {
     "data": {
      "text/plain": [
       "Pipeline(steps=[('vectorizer', CountVectorizer()),\n",
       "                ('clf', RandomForestClassifier())])"
      ]
     },
     "execution_count": 108,
     "metadata": {},
     "output_type": "execute_result"
    }
   ],
   "source": [
    "pipe.fit(Xtrain, ytrain)"
   ]
  },
  {
   "cell_type": "markdown",
   "id": "e71ab384-1d8d-4f2e-8def-ef1c476be38c",
   "metadata": {},
   "source": [
    "### evaluate the pipeline"
   ]
  },
  {
   "cell_type": "code",
   "execution_count": 113,
   "id": "ad785f38-2952-4618-a901-e5a6f60ffb16",
   "metadata": {},
   "outputs": [
    {
     "data": {
      "text/plain": [
       "0.948892674616695"
      ]
     },
     "execution_count": 113,
     "metadata": {},
     "output_type": "execute_result"
    }
   ],
   "source": [
    "pipe.score(Xtest, ytest)"
   ]
  },
  {
   "cell_type": "code",
   "execution_count": 111,
   "id": "9f6256b8-fca9-4a0d-b04c-1ecc021c80b6",
   "metadata": {},
   "outputs": [
    {
     "data": {
      "text/plain": [
       "array([0])"
      ]
     },
     "execution_count": 111,
     "metadata": {},
     "output_type": "execute_result"
    }
   ],
   "source": [
    "pipe.predict(['what a neat video'])"
   ]
  },
  {
   "cell_type": "code",
   "execution_count": 112,
   "id": "60502843-51c4-4236-9d5b-194a2cb6543f",
   "metadata": {},
   "outputs": [
    {
     "data": {
      "text/plain": [
       "array([1])"
      ]
     },
     "execution_count": 112,
     "metadata": {},
     "output_type": "execute_result"
    }
   ],
   "source": [
    "pipe.predict(['plz subcribe to my channel'])"
   ]
  },
  {
   "cell_type": "code",
   "execution_count": 115,
   "id": "502fed67-4e5e-45ff-8a1b-09afdcf57cd5",
   "metadata": {},
   "outputs": [
    {
     "name": "stdout",
     "output_type": "stream",
     "text": [
      "Accuracy: 0.96 (+/- 0.02)\n"
     ]
    }
   ],
   "source": [
    "scores = cross_val_score(pipe, X, y, cv=5)\n",
    "print('Accuracy: %0.2f (+/- %0.2f)' % (scores.mean(), scores.std()*2))"
   ]
  },
  {
   "cell_type": "markdown",
   "id": "f6eb51d9-764d-4b8b-a524-64bc3a735e84",
   "metadata": {},
   "source": [
    "### build a new pipeline with tfidf added "
   ]
  },
  {
   "cell_type": "code",
   "execution_count": 117,
   "id": "f6454f46-b908-402e-be2d-7e95b3410b9d",
   "metadata": {},
   "outputs": [],
   "source": [
    "from sklearn.feature_extraction.text import TfidfTransformer"
   ]
  },
  {
   "cell_type": "code",
   "execution_count": 119,
   "id": "59b46181-f18a-4537-9cfd-751ce35c266e",
   "metadata": {},
   "outputs": [],
   "source": [
    "Pipe2 = Pipeline([('count', CountVectorizer()), ('Tfidf', TfidfTransformer(norm=None)), ('clf', RandomForestClassifier())])"
   ]
  },
  {
   "cell_type": "code",
   "execution_count": 120,
   "id": "bbc54267-dd69-42fa-ac8d-0049db7c50e1",
   "metadata": {},
   "outputs": [
    {
     "data": {
      "text/plain": [
       "Pipeline(steps=[('count', CountVectorizer()),\n",
       "                ('Tfidf', TfidfTransformer(norm=None)),\n",
       "                ('clf', RandomForestClassifier())])"
      ]
     },
     "execution_count": 120,
     "metadata": {},
     "output_type": "execute_result"
    }
   ],
   "source": [
    "Pipe2.fit(Xtrain, ytrain)"
   ]
  },
  {
   "cell_type": "code",
   "execution_count": 121,
   "id": "2114c5ea-d4f9-4e75-8594-71195a00c4b3",
   "metadata": {},
   "outputs": [
    {
     "data": {
      "text/plain": [
       "0.948892674616695"
      ]
     },
     "execution_count": 121,
     "metadata": {},
     "output_type": "execute_result"
    }
   ],
   "source": [
    "Pipe2.score(Xtest,ytest)"
   ]
  },
  {
   "cell_type": "code",
   "execution_count": 123,
   "id": "16b7d0a3-0a30-4bd2-b528-aadf1741f6b3",
   "metadata": {},
   "outputs": [
    {
     "name": "stdout",
     "output_type": "stream",
     "text": [
      "Accuracy: 0.96 (+/- 0.01)\n"
     ]
    }
   ],
   "source": [
    "scores = cross_val_score(Pipe2, X, y, cv=5)\n",
    "print('Accuracy: %0.2f (+/- %0.2f)' % (scores.mean(), scores.std()*2))"
   ]
  },
  {
   "cell_type": "code",
   "execution_count": 127,
   "id": "bfdb623e-d187-4e9a-93f6-49dfc6ea3c54",
   "metadata": {},
   "outputs": [
    {
     "data": {
      "text/plain": [
       "[('count', CountVectorizer()),\n",
       " ('Tfidf', TfidfTransformer(norm=None)),\n",
       " ('clf', RandomForestClassifier())]"
      ]
     },
     "execution_count": 127,
     "metadata": {},
     "output_type": "execute_result"
    }
   ],
   "source": [
    "Pipe2.steps"
   ]
  },
  {
   "cell_type": "markdown",
   "id": "822c57b7-3493-4fb8-9190-bf50617dc615",
   "metadata": {},
   "source": [
    "### search for best parameters"
   ]
  },
  {
   "cell_type": "code",
   "execution_count": 133,
   "id": "29efcc86-b51c-406f-bf16-4207d19c9c70",
   "metadata": {},
   "outputs": [],
   "source": [
    "from sklearn.model_selection import GridSearchCV"
   ]
  },
  {
   "cell_type": "code",
   "execution_count": 137,
   "id": "940e7dde-0e08-457e-99a2-799d4fb3f809",
   "metadata": {},
   "outputs": [],
   "source": [
    "params = {'count__max_features': [None, 1000, 2000], \n",
    "         'count__ngram_range':[(1, 1), (1, 2)], \n",
    "         'count__stop_words': ['english', None], \n",
    "         'Tfidf__use_idf': [True, False], \n",
    "         'clf__n_estimators': [20, 50, 100]}"
   ]
  },
  {
   "cell_type": "code",
   "execution_count": 138,
   "id": "21d8dc2b-fb7d-40a0-86f2-800fab1a19be",
   "metadata": {},
   "outputs": [],
   "source": [
    "grid = GridSearchCV(Pipe2, params, cv=5, n_jobs=-1)"
   ]
  },
  {
   "cell_type": "code",
   "execution_count": 139,
   "id": "f783bc9e-3645-4517-8895-8af9a45c64c7",
   "metadata": {},
   "outputs": [
    {
     "data": {
      "text/plain": [
       "GridSearchCV(cv=5,\n",
       "             estimator=Pipeline(steps=[('count', CountVectorizer()),\n",
       "                                       ('Tfidf', TfidfTransformer(norm=None)),\n",
       "                                       ('clf', RandomForestClassifier())]),\n",
       "             n_jobs=-1,\n",
       "             param_grid={'Tfidf__use_idf': [True, False],\n",
       "                         'clf__n_estimators': [20, 50, 100],\n",
       "                         'count__max_features': [None, 1000, 2000],\n",
       "                         'count__ngram_range': [(1, 1), (1, 2)],\n",
       "                         'count__stop_words': ['english', None]})"
      ]
     },
     "execution_count": 139,
     "metadata": {},
     "output_type": "execute_result"
    }
   ],
   "source": [
    "grid.fit(Xtrain, ytrain) "
   ]
  },
  {
   "cell_type": "code",
   "execution_count": 147,
   "id": "0d65fd05-0c44-4588-ae57-7b5ee4837fe7",
   "metadata": {},
   "outputs": [
    {
     "data": {
      "text/plain": [
       "{'Tfidf__use_idf': True,\n",
       " 'clf__n_estimators': 100,\n",
       " 'count__max_features': 1000,\n",
       " 'count__ngram_range': (1, 2),\n",
       " 'count__stop_words': 'english'}"
      ]
     },
     "execution_count": 147,
     "metadata": {},
     "output_type": "execute_result"
    }
   ],
   "source": [
    "grid.best_params_"
   ]
  },
  {
   "cell_type": "code",
   "execution_count": 150,
   "id": "9a1c27d5-57f5-40a6-ba98-308bf8e65d6d",
   "metadata": {},
   "outputs": [
    {
     "data": {
      "text/plain": [
       "0.9656720408545226"
      ]
     },
     "execution_count": 150,
     "metadata": {},
     "output_type": "execute_result"
    }
   ],
   "source": [
    "grid.best_score_"
   ]
  },
  {
   "cell_type": "code",
   "execution_count": 170,
   "id": "dca02ccf-6bbd-4439-ae99-8e2f31339af8",
   "metadata": {},
   "outputs": [
    {
     "data": {
      "text/plain": [
       "72"
      ]
     },
     "execution_count": 170,
     "metadata": {},
     "output_type": "execute_result"
    }
   ],
   "source": [
    "grid.cv_results_['mean_test_score'].shape[0] #2*3*3*2*2 = 72"
   ]
  },
  {
   "cell_type": "markdown",
   "id": "536378a7-f030-4a52-b7f7-d2ef647d9364",
   "metadata": {},
   "source": [
    "### build the best model"
   ]
  },
  {
   "cell_type": "code",
   "execution_count": 164,
   "id": "e93931f5-9538-497c-9002-28d276552949",
   "metadata": {},
   "outputs": [],
   "source": [
    "best_model = grid.best_estimator_"
   ]
  },
  {
   "cell_type": "code",
   "execution_count": 166,
   "id": "b9d6fa63-fd71-410a-8719-b3f64fe35203",
   "metadata": {},
   "outputs": [
    {
     "data": {
      "text/plain": [
       "0.9420783645655877"
      ]
     },
     "execution_count": 166,
     "metadata": {},
     "output_type": "execute_result"
    }
   ],
   "source": [
    "best_model.score(Xtest, ytest)"
   ]
  },
  {
   "cell_type": "code",
   "execution_count": 169,
   "id": "4ddfb061-92c4-4368-b2ce-0a3fb62aaf6b",
   "metadata": {},
   "outputs": [
    {
     "name": "stdout",
     "output_type": "stream",
     "text": [
      "Accuracy: 0.96 (+/- 0.02)\n"
     ]
    }
   ],
   "source": [
    "scores = cross_val_score(Pipe2, X, y, cv=5)\n",
    "print('Accuracy: %0.2f (+/- %0.2f)' % (scores.mean(), scores.std()*2))"
   ]
  }
 ],
 "metadata": {
  "kernelspec": {
   "display_name": "Python 3 (ipykernel)",
   "language": "python",
   "name": "python3"
  },
  "language_info": {
   "codemirror_mode": {
    "name": "ipython",
    "version": 3
   },
   "file_extension": ".py",
   "mimetype": "text/x-python",
   "name": "python",
   "nbconvert_exporter": "python",
   "pygments_lexer": "ipython3",
   "version": "3.9.7"
  }
 },
 "nbformat": 4,
 "nbformat_minor": 5
}
